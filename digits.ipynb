{
  "nbformat": 4,
  "nbformat_minor": 0,
  "metadata": {
    "colab": {
      "name": "digits.ipynb",
      "provenance": [],
      "collapsed_sections": [],
      "include_colab_link": true
    },
    "kernelspec": {
      "name": "python3",
      "display_name": "Python 3"
    }
  },
  "cells": [
    {
      "cell_type": "markdown",
      "metadata": {
        "id": "view-in-github",
        "colab_type": "text"
      },
      "source": [
        "<a href=\"https://colab.research.google.com/github/picklerick5/CTE-Intro-To-Machine-Learning/blob/master/digits.ipynb\" target=\"_parent\"><img src=\"https://colab.research.google.com/assets/colab-badge.svg\" alt=\"Open In Colab\"/></a>"
      ]
    },
    {
      "cell_type": "code",
      "metadata": {
        "id": "Zt_AqMhB4O9n",
        "colab_type": "code",
        "colab": {}
      },
      "source": [
        "import numpy as np \n",
        "import pandas as pd \n",
        "\n",
        "import matplotlib.pyplot as plt\n",
        "%matplotlib inline\n",
        "\n",
        "from keras.models import Sequential\n",
        "from keras.layers import Dense , Dropout , Lambda, Flatten, BatchNormalization\n",
        "from keras.optimizers import Adam ,RMSprop\n",
        "from sklearn.model_selection import train_test_split\n",
        "from keras import  backend as K\n",
        "from keras.preprocessing.image import ImageDataGenerator\n",
        "from keras.callbacks import LearningRateScheduler\n",
        "from keras.utils.np_utils import to_categorical\n"
      ],
      "execution_count": 0,
      "outputs": []
    },
    {
      "cell_type": "code",
      "metadata": {
        "id": "tKLrsfm3Af2E",
        "colab_type": "code",
        "colab": {}
      },
      "source": [
        "train=pd.read_csv('train.csv')\n",
        "test=pd.read_csv('test.csv')"
      ],
      "execution_count": 0,
      "outputs": []
    },
    {
      "cell_type": "code",
      "metadata": {
        "id": "Hb9sd9CP7k4_",
        "colab_type": "code",
        "colab": {}
      },
      "source": [
        "train.head()"
      ],
      "execution_count": 0,
      "outputs": []
    },
    {
      "cell_type": "code",
      "metadata": {
        "id": "qGgyTxV_7sdW",
        "colab_type": "code",
        "colab": {}
      },
      "source": [
        "test.head()"
      ],
      "execution_count": 0,
      "outputs": []
    },
    {
      "cell_type": "code",
      "metadata": {
        "id": "K_WVpEY04XJB",
        "colab_type": "code",
        "colab": {}
      },
      "source": [
        "xtr= (train.iloc[:,1:].values).astype('float32') \n",
        "ytr = train.iloc[:,0].values.astype('int32')\n",
        "xte = test.values.astype('float32')"
      ],
      "execution_count": 0,
      "outputs": []
    },
    {
      "cell_type": "code",
      "metadata": {
        "id": "becTNJ976Hx0",
        "colab_type": "code",
        "colab": {}
      },
      "source": [
        "xtr=xtr.reshape(xtr.shape[0],28,28)\n",
        "xte=xte.reshape(xte.shape[0],28,28)"
      ],
      "execution_count": 0,
      "outputs": []
    },
    {
      "cell_type": "code",
      "metadata": {
        "id": "MiGjoKjr58Ox",
        "colab_type": "code",
        "colab": {}
      },
      "source": [
        "plt.subplot(337)\n",
        "plt.imshow(xtr[6], cmap=plt.get_cmap('gray'))\n",
        "plt.title= ytr[6]"
      ],
      "execution_count": 0,
      "outputs": []
    },
    {
      "cell_type": "code",
      "metadata": {
        "id": "D0M1vD9LAtmI",
        "colab_type": "code",
        "colab": {}
      },
      "source": [
        "xtr=xtr.reshape(xtr.shape[0],28,28,1)\n",
        "xte=xte.reshape(xte.shape[0],28,28,1)"
      ],
      "execution_count": 0,
      "outputs": []
    },
    {
      "cell_type": "code",
      "metadata": {
        "id": "4vXBMcxgA6EK",
        "colab_type": "code",
        "colab": {}
      },
      "source": [
        "meanpx=xtr.mean().astype(np.float32)\n",
        "stdpx=xtr.std().astype(np.float32)\n",
        "def standardize(x): \n",
        "    return (x-meanpx)/stdpx"
      ],
      "execution_count": 0,
      "outputs": []
    },
    {
      "cell_type": "code",
      "metadata": {
        "id": "EIAmu0P8Dt1p",
        "colab_type": "code",
        "colab": {}
      },
      "source": [
        "from keras.layers import BatchNormalization, Convolution2D , MaxPooling2D"
      ],
      "execution_count": 0,
      "outputs": []
    },
    {
      "cell_type": "code",
      "metadata": {
        "id": "h1uZ34BDImSs",
        "colab_type": "code",
        "colab": {}
      },
      "source": [
        "model= Sequential()\n",
        "model.add(Lambda(standardize, input_shape=(28,28,1)))\n",
        "model.add(Convolution2D(32,(3,3),activation='relu'))\n",
        "model.add(BatchNormalization())\n",
        "model.add(Convolution2D(32,(3,3),activation='relu'))\n",
        "model.add(BatchNormalization())\n",
        "model.add(MaxPooling2D())\n",
        "model.add(Dropout(0.25))\n",
        "model.add(Convolution2D(64,(3,3),activation='relu'))\n",
        "model.add(BatchNormalization())\n",
        "model.add(Convolution2D(64,(3,3),activation='relu'))\n",
        "model.add(BatchNormalization())\n",
        "model.add(Flatten())\n",
        "model.add(Dense(512,activation='relu'))\n",
        "model.add(Dropout(0.25))\n",
        "model.add(Dense(10,activation='softmax'))"
      ],
      "execution_count": 0,
      "outputs": []
    },
    {
      "cell_type": "code",
      "metadata": {
        "id": "gawpC2LXbnnp",
        "colab_type": "code",
        "colab": {}
      },
      "source": [
        " model.compile(Adam(), loss='categorical_crossentropy',metrics=['accuracy'])\n",
        " model.optimizer.lr=0.01\n",
        " ytr=to_categorical(ytr)"
      ],
      "execution_count": 0,
      "outputs": []
    },
    {
      "cell_type": "code",
      "metadata": {
        "id": "xA5t4l6P6guX",
        "colab_type": "code",
        "colab": {}
      },
      "source": [
        "from sklearn.model_selection import train_test_split\n",
        "x_train, x_test, y_train, y_test = train_test_split(xtr, ytr, test_size=0.33)"
      ],
      "execution_count": 0,
      "outputs": []
    },
    {
      "cell_type": "code",
      "metadata": {
        "id": "RaZjFSIz6WIW",
        "colab_type": "code",
        "colab": {}
      },
      "source": [
        "from keras.preprocessing import image\n",
        "gen = ImageDataGenerator(rotation_range=8, width_shift_range=0.08, shear_range=0.3, height_shift_range=0.08, zoom_range=0.08)\n",
        "batches = gen.flow(x_train, y_train, batch_size=64)\n",
        "test_batches = gen.flow(x_test, y_test, batch_size=64)\n",
        "model.fit_generator(generator=batches, steps_per_epoch=batches.n, epochs=1, validation_data=test_batches, validation_steps=test_batches.n)"
      ],
      "execution_count": 0,
      "outputs": []
    },
    {
      "cell_type": "code",
      "metadata": {
        "id": "by4l2p3w-_7n",
        "colab_type": "code",
        "colab": {}
      },
      "source": [
        "batches = gen.flow(xtr, ytr, batch_size=64)\n",
        "model.fit_generator(generator=batches, steps_per_epoch=batches.n, epochs=3)"
      ],
      "execution_count": 0,
      "outputs": []
    },
    {
      "cell_type": "code",
      "metadata": {
        "id": "d73R3uih-g6R",
        "colab_type": "code",
        "colab": {}
      },
      "source": [
        "predictions = model.predict_classes(xte, verbose=0)\n",
        "\n",
        "submissions=pd.DataFrame({\"ImageId\": list(range(1,len(predictions)+1)),\n",
        "                         \"Label\": predictions})\n",
        "submissions.to_csv(\"Digits.csv\", index=False, header=True)"
      ],
      "execution_count": 0,
      "outputs": []
    }
  ]
}
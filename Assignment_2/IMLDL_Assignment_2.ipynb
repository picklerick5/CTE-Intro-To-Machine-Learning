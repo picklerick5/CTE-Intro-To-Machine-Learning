{
  "nbformat": 4,
  "nbformat_minor": 0,
  "metadata": {
    "colab": {
      "name": "IMLDL_Assignment_2",
      "provenance": [],
      "collapsed_sections": [],
      "include_colab_link": true
    },
    "kernelspec": {
      "name": "python3",
      "display_name": "Python 3"
    }
  },
  "cells": [
    {
      "cell_type": "markdown",
      "metadata": {
        "id": "view-in-github",
        "colab_type": "text"
      },
      "source": [
        "<a href=\"https://colab.research.google.com/github/someshsingh22/CTE-Intro-To-Machine-Learning/blob/master/Assignment_2/IMLDL_Assignment_2.ipynb\" target=\"_parent\"><img src=\"https://colab.research.google.com/assets/colab-badge.svg\" alt=\"Open In Colab\"/></a>"
      ]
    },
    {
      "cell_type": "markdown",
      "metadata": {
        "id": "WBJiVt-3SWzw",
        "colab_type": "text"
      },
      "source": [
        "> **The Problem Statement is to find if a house is sold above the median price or below it with given features, You have to implement a simple neural net to do binary classification**"
      ]
    },
    {
      "cell_type": "markdown",
      "metadata": {
        "id": "zgjmjoMHScmy",
        "colab_type": "text"
      },
      "source": [
        "### **For this assignment some parts of the assignment are left empty, you have to fill them and complete the model, the assignment will aslo take account of your visualizations along with the accuracy**"
      ]
    },
    {
      "cell_type": "markdown",
      "metadata": {
        "id": "m4baPV-RSfaH",
        "colab_type": "text"
      },
      "source": [
        "## IMPORTS"
      ]
    },
    {
      "cell_type": "code",
      "metadata": {
        "id": "i1U0sCLeSZZD",
        "colab_type": "code",
        "colab": {}
      },
      "source": [
        "import numpy as np # linear algebra\n",
        "import pandas as pd # data processing, CSV file I/O (e.g. pd.read_csv)\n",
        "df = pd.read_csv(\"https://raw.githubusercontent.com/someshsingh22/CTE-Intro-To-Machine-Learning/master/Assignment_2/housepricedata.csv\").astype('int32')\n",
        "import seaborn as sns; sns.set()\n",
        "import matplotlib.pyplot as plt\n",
        "from sklearn import preprocessing\n",
        "from sklearn.model_selection import train_test_split\n",
        "import torch.nn as nn\n",
        "import torch.nn.functional as F\n",
        "# Any results you write to the current directory are saved as output."
      ],
      "execution_count": 0,
      "outputs": []
    },
    {
      "cell_type": "code",
      "metadata": {
        "id": "-c7YomDqSqk4",
        "colab_type": "code",
        "colab": {
          "base_uri": "https://localhost:8080/",
          "height": 222
        },
        "outputId": "fd8a4ac4-409a-4cdb-e3ec-a0344c03b7b2"
      },
      "source": [
        "# Let us walk through the structure of the dataset\n",
        "df.head()"
      ],
      "execution_count": 2,
      "outputs": [
        {
          "output_type": "execute_result",
          "data": {
            "text/html": [
              "<div>\n",
              "<style scoped>\n",
              "    .dataframe tbody tr th:only-of-type {\n",
              "        vertical-align: middle;\n",
              "    }\n",
              "\n",
              "    .dataframe tbody tr th {\n",
              "        vertical-align: top;\n",
              "    }\n",
              "\n",
              "    .dataframe thead th {\n",
              "        text-align: right;\n",
              "    }\n",
              "</style>\n",
              "<table border=\"1\" class=\"dataframe\">\n",
              "  <thead>\n",
              "    <tr style=\"text-align: right;\">\n",
              "      <th></th>\n",
              "      <th>LotArea</th>\n",
              "      <th>OverallQual</th>\n",
              "      <th>OverallCond</th>\n",
              "      <th>TotalBsmtSF</th>\n",
              "      <th>FullBath</th>\n",
              "      <th>HalfBath</th>\n",
              "      <th>BedroomAbvGr</th>\n",
              "      <th>TotRmsAbvGrd</th>\n",
              "      <th>Fireplaces</th>\n",
              "      <th>GarageArea</th>\n",
              "      <th>AboveMedianPrice</th>\n",
              "    </tr>\n",
              "  </thead>\n",
              "  <tbody>\n",
              "    <tr>\n",
              "      <th>0</th>\n",
              "      <td>8450</td>\n",
              "      <td>7</td>\n",
              "      <td>5</td>\n",
              "      <td>856</td>\n",
              "      <td>2</td>\n",
              "      <td>1</td>\n",
              "      <td>3</td>\n",
              "      <td>8</td>\n",
              "      <td>0</td>\n",
              "      <td>548</td>\n",
              "      <td>1</td>\n",
              "    </tr>\n",
              "    <tr>\n",
              "      <th>1</th>\n",
              "      <td>9600</td>\n",
              "      <td>6</td>\n",
              "      <td>8</td>\n",
              "      <td>1262</td>\n",
              "      <td>2</td>\n",
              "      <td>0</td>\n",
              "      <td>3</td>\n",
              "      <td>6</td>\n",
              "      <td>1</td>\n",
              "      <td>460</td>\n",
              "      <td>1</td>\n",
              "    </tr>\n",
              "    <tr>\n",
              "      <th>2</th>\n",
              "      <td>11250</td>\n",
              "      <td>7</td>\n",
              "      <td>5</td>\n",
              "      <td>920</td>\n",
              "      <td>2</td>\n",
              "      <td>1</td>\n",
              "      <td>3</td>\n",
              "      <td>6</td>\n",
              "      <td>1</td>\n",
              "      <td>608</td>\n",
              "      <td>1</td>\n",
              "    </tr>\n",
              "    <tr>\n",
              "      <th>3</th>\n",
              "      <td>9550</td>\n",
              "      <td>7</td>\n",
              "      <td>5</td>\n",
              "      <td>756</td>\n",
              "      <td>1</td>\n",
              "      <td>0</td>\n",
              "      <td>3</td>\n",
              "      <td>7</td>\n",
              "      <td>1</td>\n",
              "      <td>642</td>\n",
              "      <td>0</td>\n",
              "    </tr>\n",
              "    <tr>\n",
              "      <th>4</th>\n",
              "      <td>14260</td>\n",
              "      <td>8</td>\n",
              "      <td>5</td>\n",
              "      <td>1145</td>\n",
              "      <td>2</td>\n",
              "      <td>1</td>\n",
              "      <td>4</td>\n",
              "      <td>9</td>\n",
              "      <td>1</td>\n",
              "      <td>836</td>\n",
              "      <td>1</td>\n",
              "    </tr>\n",
              "  </tbody>\n",
              "</table>\n",
              "</div>"
            ],
            "text/plain": [
              "   LotArea  OverallQual  OverallCond  ...  Fireplaces  GarageArea  AboveMedianPrice\n",
              "0     8450            7            5  ...           0         548                 1\n",
              "1     9600            6            8  ...           1         460                 1\n",
              "2    11250            7            5  ...           1         608                 1\n",
              "3     9550            7            5  ...           1         642                 0\n",
              "4    14260            8            5  ...           1         836                 1\n",
              "\n",
              "[5 rows x 11 columns]"
            ]
          },
          "metadata": {
            "tags": []
          },
          "execution_count": 2
        }
      ]
    },
    {
      "cell_type": "code",
      "metadata": {
        "id": "_Fd9Wnw7TPI9",
        "colab_type": "code",
        "colab": {
          "base_uri": "https://localhost:8080/",
          "height": 87
        },
        "outputId": "58f39fde-255b-4ff8-aea7-9ca0d3b5dd5d"
      },
      "source": [
        "'''\n",
        "The labels are :\n",
        "\n",
        "Lot Area (in sq ft)\n",
        "Overall Quality (scale from 1 to 10)\n",
        "Overall Condition (scale from 1 to 10)\n",
        "Total Basement Area (in sq ft)\n",
        "Number of Full Bathrooms\n",
        "Number of Half Bathrooms\n",
        "Number of Bedrooms above ground\n",
        "Total Number of Rooms above ground\n",
        "Number of Fireplaces\n",
        "Garage Area (in sq ft)\n",
        "\n",
        "In our last column, we have the feature that we would like to predict:\n",
        "Is the house price above the median or not? (1 for yes and 0 for no)\n",
        "'''\n",
        "df.columns"
      ],
      "execution_count": 3,
      "outputs": [
        {
          "output_type": "execute_result",
          "data": {
            "text/plain": [
              "Index(['LotArea', 'OverallQual', 'OverallCond', 'TotalBsmtSF', 'FullBath',\n",
              "       'HalfBath', 'BedroomAbvGr', 'TotRmsAbvGrd', 'Fireplaces', 'GarageArea',\n",
              "       'AboveMedianPrice'],\n",
              "      dtype='object')"
            ]
          },
          "metadata": {
            "tags": []
          },
          "execution_count": 3
        }
      ]
    },
    {
      "cell_type": "code",
      "metadata": {
        "id": "aH-eE53OTRyI",
        "colab_type": "code",
        "colab": {
          "base_uri": "https://localhost:8080/",
          "height": 314
        },
        "outputId": "6658bb80-2d9f-428d-f971-96f8b3c310de"
      },
      "source": [
        "# Statistics of the labels\n",
        "df.describe()"
      ],
      "execution_count": 4,
      "outputs": [
        {
          "output_type": "execute_result",
          "data": {
            "text/html": [
              "<div>\n",
              "<style scoped>\n",
              "    .dataframe tbody tr th:only-of-type {\n",
              "        vertical-align: middle;\n",
              "    }\n",
              "\n",
              "    .dataframe tbody tr th {\n",
              "        vertical-align: top;\n",
              "    }\n",
              "\n",
              "    .dataframe thead th {\n",
              "        text-align: right;\n",
              "    }\n",
              "</style>\n",
              "<table border=\"1\" class=\"dataframe\">\n",
              "  <thead>\n",
              "    <tr style=\"text-align: right;\">\n",
              "      <th></th>\n",
              "      <th>LotArea</th>\n",
              "      <th>OverallQual</th>\n",
              "      <th>OverallCond</th>\n",
              "      <th>TotalBsmtSF</th>\n",
              "      <th>FullBath</th>\n",
              "      <th>HalfBath</th>\n",
              "      <th>BedroomAbvGr</th>\n",
              "      <th>TotRmsAbvGrd</th>\n",
              "      <th>Fireplaces</th>\n",
              "      <th>GarageArea</th>\n",
              "      <th>AboveMedianPrice</th>\n",
              "    </tr>\n",
              "  </thead>\n",
              "  <tbody>\n",
              "    <tr>\n",
              "      <th>count</th>\n",
              "      <td>1313.000000</td>\n",
              "      <td>1313.00000</td>\n",
              "      <td>1313.000000</td>\n",
              "      <td>1313.000000</td>\n",
              "      <td>1313.000000</td>\n",
              "      <td>1313.000000</td>\n",
              "      <td>1313.000000</td>\n",
              "      <td>1313.000000</td>\n",
              "      <td>1313.000000</td>\n",
              "      <td>1313.000000</td>\n",
              "      <td>1313.000000</td>\n",
              "    </tr>\n",
              "    <tr>\n",
              "      <th>mean</th>\n",
              "      <td>10550.808835</td>\n",
              "      <td>6.10358</td>\n",
              "      <td>5.575781</td>\n",
              "      <td>1052.617669</td>\n",
              "      <td>1.567403</td>\n",
              "      <td>0.383092</td>\n",
              "      <td>2.862148</td>\n",
              "      <td>6.506474</td>\n",
              "      <td>0.615385</td>\n",
              "      <td>473.220868</td>\n",
              "      <td>0.500381</td>\n",
              "    </tr>\n",
              "    <tr>\n",
              "      <th>std</th>\n",
              "      <td>10322.911456</td>\n",
              "      <td>1.38037</td>\n",
              "      <td>1.116229</td>\n",
              "      <td>419.031051</td>\n",
              "      <td>0.550973</td>\n",
              "      <td>0.501754</td>\n",
              "      <td>0.821792</td>\n",
              "      <td>1.623051</td>\n",
              "      <td>0.640818</td>\n",
              "      <td>213.306661</td>\n",
              "      <td>0.500190</td>\n",
              "    </tr>\n",
              "    <tr>\n",
              "      <th>min</th>\n",
              "      <td>1300.000000</td>\n",
              "      <td>1.00000</td>\n",
              "      <td>1.000000</td>\n",
              "      <td>0.000000</td>\n",
              "      <td>0.000000</td>\n",
              "      <td>0.000000</td>\n",
              "      <td>0.000000</td>\n",
              "      <td>2.000000</td>\n",
              "      <td>0.000000</td>\n",
              "      <td>0.000000</td>\n",
              "      <td>0.000000</td>\n",
              "    </tr>\n",
              "    <tr>\n",
              "      <th>25%</th>\n",
              "      <td>7500.000000</td>\n",
              "      <td>5.00000</td>\n",
              "      <td>5.000000</td>\n",
              "      <td>794.000000</td>\n",
              "      <td>1.000000</td>\n",
              "      <td>0.000000</td>\n",
              "      <td>2.000000</td>\n",
              "      <td>5.000000</td>\n",
              "      <td>0.000000</td>\n",
              "      <td>336.000000</td>\n",
              "      <td>0.000000</td>\n",
              "    </tr>\n",
              "    <tr>\n",
              "      <th>50%</th>\n",
              "      <td>9452.000000</td>\n",
              "      <td>6.00000</td>\n",
              "      <td>5.000000</td>\n",
              "      <td>992.000000</td>\n",
              "      <td>2.000000</td>\n",
              "      <td>0.000000</td>\n",
              "      <td>3.000000</td>\n",
              "      <td>6.000000</td>\n",
              "      <td>1.000000</td>\n",
              "      <td>478.000000</td>\n",
              "      <td>1.000000</td>\n",
              "    </tr>\n",
              "    <tr>\n",
              "      <th>75%</th>\n",
              "      <td>11639.000000</td>\n",
              "      <td>7.00000</td>\n",
              "      <td>6.000000</td>\n",
              "      <td>1293.000000</td>\n",
              "      <td>2.000000</td>\n",
              "      <td>1.000000</td>\n",
              "      <td>3.000000</td>\n",
              "      <td>7.000000</td>\n",
              "      <td>1.000000</td>\n",
              "      <td>576.000000</td>\n",
              "      <td>1.000000</td>\n",
              "    </tr>\n",
              "    <tr>\n",
              "      <th>max</th>\n",
              "      <td>215245.000000</td>\n",
              "      <td>10.00000</td>\n",
              "      <td>9.000000</td>\n",
              "      <td>3206.000000</td>\n",
              "      <td>3.000000</td>\n",
              "      <td>2.000000</td>\n",
              "      <td>8.000000</td>\n",
              "      <td>14.000000</td>\n",
              "      <td>3.000000</td>\n",
              "      <td>1390.000000</td>\n",
              "      <td>1.000000</td>\n",
              "    </tr>\n",
              "  </tbody>\n",
              "</table>\n",
              "</div>"
            ],
            "text/plain": [
              "             LotArea  OverallQual  ...   GarageArea  AboveMedianPrice\n",
              "count    1313.000000   1313.00000  ...  1313.000000       1313.000000\n",
              "mean    10550.808835      6.10358  ...   473.220868          0.500381\n",
              "std     10322.911456      1.38037  ...   213.306661          0.500190\n",
              "min      1300.000000      1.00000  ...     0.000000          0.000000\n",
              "25%      7500.000000      5.00000  ...   336.000000          0.000000\n",
              "50%      9452.000000      6.00000  ...   478.000000          1.000000\n",
              "75%     11639.000000      7.00000  ...   576.000000          1.000000\n",
              "max    215245.000000     10.00000  ...  1390.000000          1.000000\n",
              "\n",
              "[8 rows x 11 columns]"
            ]
          },
          "metadata": {
            "tags": []
          },
          "execution_count": 4
        }
      ]
    },
    {
      "cell_type": "markdown",
      "metadata": {
        "id": "elnScZw_TUNZ",
        "colab_type": "text"
      },
      "source": [
        "## Visualising Discrete and continous features\n",
        "*This is important to understand for the correct scaling, dropping of features and removing outliers as well*"
      ]
    },
    {
      "cell_type": "code",
      "metadata": {
        "id": "OlAvkGsXTTlo",
        "colab_type": "code",
        "colab": {
          "base_uri": "https://localhost:8080/",
          "height": 502
        },
        "outputId": "0e5f4a77-0b80-4f3b-954a-d337d752f4ab"
      },
      "source": [
        "# Visualising the Data\n",
        "# plot on two grids\n",
        "fig, axs = plt.subplots(ncols=2,figsize=(12,8))\n",
        "# LotArea vs Above Price\n",
        "sns.catplot(y=\"LotArea\", x=\"AboveMedianPrice\", data=df, ax=axs[0])\n",
        "\n",
        "# Basement Area vs Price\n",
        "sns.catplot(y=\"TotalBsmtSF\", x=\"AboveMedianPrice\", data=df, ax=axs[1])\n",
        "\n",
        "# plt.close() is just a fast hack to ignore the empty plots that might have appeared in 2X2 grid of plots\n",
        "plt.close(2)\n",
        "plt.close(3)\n",
        "plt.show()"
      ],
      "execution_count": 5,
      "outputs": [
        {
          "output_type": "display_data",
          "data": {
            "image/png": "[encoded data removed]",
            "text/plain": [
              "<Figure size 864x576 with 2 Axes>"
            ]
          },
          "metadata": {
            "tags": []
          }
        }
      ]
    },
    {
      "cell_type": "code",
      "metadata": {
        "id": "ICepB1NoTaRH",
        "colab_type": "code",
        "colab": {
          "base_uri": "https://localhost:8080/",
          "height": 455
        },
        "outputId": "2cbe0db1-6c4d-4623-c9d4-04abdda072ed"
      },
      "source": [
        "# You can visualize\n",
        "sns.jointplot(x=\"OverallQual\", y=\"AboveMedianPrice\", data=df, kind=\"kde\", space=0, color=\"b\")"
      ],
      "execution_count": 6,
      "outputs": [
        {
          "output_type": "execute_result",
          "data": {
            "text/plain": [
              "<seaborn.axisgrid.JointGrid at 0x7f5fcca46f28>"
            ]
          },
          "metadata": {
            "tags": []
          },
          "execution_count": 6
        },
        {
          "output_type": "display_data",
          "data": {
            "image/png": "[encoded data removed]",
            "text/plain": [
              "<Figure size 432x432 with 3 Axes>"
            ]
          },
          "metadata": {
            "tags": []
          }
        }
      ]
    },
    {
      "cell_type": "code",
      "metadata": {
        "id": "wpiUB5YsThKo",
        "colab_type": "code",
        "colab": {}
      },
      "source": [
        "# Assignment Part 1\n",
        "# Go on and try these by yourself select the features you want, now we will scale some of them\n",
        "# Obtain and separate your targets and inputs vectors first\n",
        "# HERE\n",
        "\n",
        "# Scale Accordingly \n",
        "# HERE\n",
        "\n",
        "# Split into train and val ratio of your choice \n",
        "# eg train,eval = (0.8,0.2) keep your train and val variables in accordance with the next line of code\n",
        "\n",
        "print(X_train.shape, X_val.shape, Y_train.shape, Y_val.shape)\n",
        "# IE this should print the shape"
      ],
      "execution_count": 0,
      "outputs": []
    },
    {
      "cell_type": "code",
      "metadata": {
        "id": "muUjZS4nTkCo",
        "colab_type": "code",
        "colab": {}
      },
      "source": [
        "# Assignment Part 2\n",
        "# Define Your Model Here"
      ],
      "execution_count": 0,
      "outputs": []
    },
    {
      "cell_type": "code",
      "metadata": {
        "id": "qpO1_zgtTupI",
        "colab_type": "code",
        "colab": {}
      },
      "source": [
        "# Define your Oprimizer and Loss here\n",
        "\n",
        "\n",
        "# Training Loop\n",
        "epochs=10\n",
        "for epoch in range(epochs):\n",
        "    '''\n",
        "    Training Loop\n",
        "    '''\n"
      ],
      "execution_count": 0,
      "outputs": []
    },
    {
      "cell_type": "code",
      "metadata": {
        "id": "uo5Ua5kgTw6_",
        "colab_type": "code",
        "colab": {}
      },
      "source": [
        "test=pd.read_csv(\"https://raw.githubusercontent.com/someshsingh22/CTE-Intro-To-Machine-Learning/master/Assignment_2/housepricedata_Test.csv\")\n",
        "# Get The Predictions and save them as \"submit.csv\""
      ],
      "execution_count": 0,
      "outputs": []
    },
    {
      "cell_type": "code",
      "metadata": {
        "id": "9M9X2zuIU4UD",
        "colab_type": "code",
        "colab": {}
      },
      "source": [
        "# Download your csv\n",
        "# Keep Third Party Cookies On\n",
        "# Do it from chrome\n",
        "# If it doesnt work simply copy it to a spreadsheet and save it as submit.csv\n",
        "from google.colab import files\n",
        "files.download('submit.csv') "
      ],
      "execution_count": 0,
      "outputs": []
    }
  ]
}
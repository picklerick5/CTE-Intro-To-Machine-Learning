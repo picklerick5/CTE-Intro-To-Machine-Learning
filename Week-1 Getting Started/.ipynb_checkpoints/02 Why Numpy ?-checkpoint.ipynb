{
 "cells": [
  {
   "cell_type": "markdown",
   "metadata": {
    "colab_type": "text",
    "id": "t6Jf5kR96-8a"
   },
   "source": [
    "## IMPORTS"
   ]
  },
  {
   "cell_type": "markdown",
   "metadata": {},
   "source": [
    "Now we introduce you to one of the most important libraries for data science and machine learning for python : **numpy**  \n",
    "These use blocks of memory and operate over them and hence are very fast in comparision to list comprehensions, follow the code below to observe the differnece"
   ]
  },
  {
   "cell_type": "code",
   "execution_count": 9,
   "metadata": {
    "colab": {},
    "colab_type": "code",
    "id": "fhny_qmEhGgf"
   },
   "outputs": [],
   "source": [
    "import numpy as np"
   ]
  },
  {
   "cell_type": "markdown",
   "metadata": {
    "colab_type": "text",
    "id": "SYnXS3uV7JzZ"
   },
   "source": [
    "## Functions to compare *numpy* and *regular python* way"
   ]
  },
  {
   "cell_type": "code",
   "execution_count": 10,
   "metadata": {
    "colab": {},
    "colab_type": "code",
    "id": "Rq-nWuhfj2fb"
   },
   "outputs": [],
   "source": [
    "# List_add is a function that adds a two list of given size\n",
    "def list_add(size):\n",
    "    added_python_list=[]\n",
    "    python_list1 = [i for i in range(size)]\n",
    "    python_list2 = [2*i for i in range(size)]\n",
    "    for i in range(len(python_list1)):\n",
    "        added_python_list.append(python_list1[i] + python_list2[i])\n",
    "\n",
    "# np_add adds two numpy arrays of a given size\n",
    "def np_add(size):\n",
    "    numpy_array1 = np.arange(0,size,1)\n",
    "    numpy_array2 = 2*numpy_array1\n",
    "    added_numpy_array = numpy_array1 + numpy_array2"
   ]
  },
  {
   "cell_type": "markdown",
   "metadata": {
    "colab_type": "text",
    "id": "fdqYWGIcZhHU"
   },
   "source": [
    "### Function to return a list of time intervals for sizes varying from 2^10-2^25"
   ]
  },
  {
   "cell_type": "code",
   "execution_count": 11,
   "metadata": {
    "colab": {
     "base_uri": "https://localhost:8080/",
     "height": 52
    },
    "colab_type": "code",
    "id": "U7z67X6UhQgX",
    "outputId": "1d5beaf6-9685-4275-945b-43e6525c0b67"
   },
   "outputs": [],
   "source": [
    "# time is a library used to create time variables\n",
    "import time\n",
    "\n",
    "# time_list is a function to return a numpy array that appends time taken by function calls\n",
    "start,end=10,25\n",
    "def time_list(function,start=start,end=end):\n",
    "    time_taken=[]\n",
    "    for i in range(start,end):\n",
    "        start=time.time()\n",
    "        function(2**i)\n",
    "        time_taken.append(time.time()-start)\n",
    "    return (np.asarray(time_taken))*1000"
   ]
  },
  {
   "cell_type": "markdown",
   "metadata": {
    "colab_type": "text",
    "id": "zKSUVsgFZ4Zh"
   },
   "source": [
    "### Notice the difference in time intervals for a range of ~10^8 elements"
   ]
  },
  {
   "cell_type": "code",
   "execution_count": 12,
   "metadata": {
    "colab": {
     "base_uri": "https://localhost:8080/",
     "height": 69
    },
    "colab_type": "code",
    "id": "JMe4iWLN8_NV",
    "outputId": "6c6a1aab-19eb-429c-fe4e-93c0ab846945"
   },
   "outputs": [
    {
     "name": "stdout",
     "output_type": "stream",
     "text": [
      "start :  1024\n",
      "end :  16777216\n",
      "time for size of 16777216=\n",
      "\t\t List : 3637 ms\n",
      "\t\t Numpy: 183 ms\n"
     ]
    }
   ],
   "source": [
    "print(\"start : \",2**start)\n",
    "print(\"end : \",2**(end-1))\n",
    "list_time=time_list(list_add)\n",
    "np_time  =time_list(np_add)\n",
    "print(\"time for size of {}=\\n\\t\\t List : {} ms\\n\\t\\t Numpy: {} ms\".format(2**(end-1),int(list_time[-1]),int(np_time[-1])))"
   ]
  },
  {
   "cell_type": "markdown",
   "metadata": {
    "colab_type": "text",
    "id": "eoAhfWEEZ3bK"
   },
   "source": [
    "### Plot of time intervals Numpy vs Python List"
   ]
  },
  {
   "cell_type": "markdown",
   "metadata": {
    "colab_type": "text",
    "id": "0UzvQLyhaY3H"
   },
   "source": [
    "Plotting techniques using matplotlib and seaborn will be explained later"
   ]
  },
  {
   "cell_type": "code",
   "execution_count": 13,
   "metadata": {
    "colab": {
     "base_uri": "https://localhost:8080/",
     "height": 287
    },
    "colab_type": "code",
    "id": "vxf1xMcZ3cKt",
    "outputId": "a6245257-f429-4043-8480-fb3b0b77467d"
   },
   "outputs": [
    {
     "data": {
      "text/plain": [
       "<matplotlib.axes._subplots.AxesSubplot at 0x7fc1337dc160>"
      ]
     },
     "execution_count": 13,
     "metadata": {},
     "output_type": "execute_result"
    },
    {
     "data": {
      "image/png": "[encoded data removed]",
      "text/plain": [
       "<Figure size 432x288 with 1 Axes>"
      ]
     },
     "metadata": {},
     "output_type": "display_data"
    }
   ],
   "source": [
    "import seaborn as sns\n",
    "#seaborn is a library used for making good visual plots\n",
    "sns.lineplot(np.arange(start,end),list_time,label=\"list_time\")\n",
    "sns.lineplot(np.arange(start,end),np_time,label=\"numpy_time\")"
   ]
  }
 ],
 "metadata": {
  "colab": {
   "collapsed_sections": [],
   "name": "Untitled",
   "provenance": [],
   "version": "0.3.2"
  },
  "kernelspec": {
   "display_name": "Python 3",
   "language": "python",
   "name": "python3"
  },
  "language_info": {
   "codemirror_mode": {
    "name": "ipython",
    "version": 3
   },
   "file_extension": ".py",
   "mimetype": "text/x-python",
   "name": "python",
   "nbconvert_exporter": "python",
   "pygments_lexer": "ipython3",
   "version": "3.6.7"
  }
 },
 "nbformat": 4,
 "nbformat_minor": 1
}

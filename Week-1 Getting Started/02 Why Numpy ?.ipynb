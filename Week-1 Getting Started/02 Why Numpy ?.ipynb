{
  "nbformat": 4,
  "nbformat_minor": 0,
  "metadata": {
    "colab": {
      "name": "Untitled",
      "version": "0.3.2",
      "provenance": [],
      "collapsed_sections": []
    },
    "kernelspec": {
      "name": "python3",
      "display_name": "Python 3"
    }
  },
  "cells": [
    {
      "cell_type": "markdown",
      "metadata": {
        "id": "t6Jf5kR96-8a",
        "colab_type": "text"
      },
      "source": [
        "## IMPORTS"
      ]
    },
    {
      "cell_type": "code",
      "metadata": {
        "id": "fhny_qmEhGgf",
        "colab_type": "code",
        "colab": {}
      },
      "source": [
        "import pandas as pd\n",
        "import time\n",
        "import numpy as np\n",
        "import matplotlib.pyplot as plt\n",
        "import seaborn as sns"
      ],
      "execution_count": 0,
      "outputs": []
    },
    {
      "cell_type": "markdown",
      "metadata": {
        "id": "SYnXS3uV7JzZ",
        "colab_type": "text"
      },
      "source": [
        "## Functions to compare *numpy* and *regular python* way"
      ]
    },
    {
      "cell_type": "code",
      "metadata": {
        "id": "Rq-nWuhfj2fb",
        "colab_type": "code",
        "colab": {}
      },
      "source": [
        "def list_add(size):\n",
        "  added_python_list=[]\n",
        "  python_list1 = [i for i in range(size)]\n",
        "  python_list2 = [2*i for i in range(size)]\n",
        "  for i in range(len(python_list1)):\n",
        "    added_python_list.append(python_list1[i] + python_list2[i])\n",
        "def np_add(size):\n",
        "  numpy_array1 = np.arange(0,size,1)\n",
        "  numpy_array2 = 2*numpy_array1\n",
        "  added_numpy_array = numpy_array1 + numpy_array2"
      ],
      "execution_count": 0,
      "outputs": []
    },
    {
      "cell_type": "markdown",
      "metadata": {
        "id": "fdqYWGIcZhHU",
        "colab_type": "text"
      },
      "source": [
        "### Function to return a list of time intervals for sizes varying from 2^10-2^25"
      ]
    },
    {
      "cell_type": "code",
      "metadata": {
        "id": "U7z67X6UhQgX",
        "colab_type": "code",
        "outputId": "1d5beaf6-9685-4275-945b-43e6525c0b67",
        "colab": {
          "base_uri": "https://localhost:8080/",
          "height": 52
        }
      },
      "source": [
        "start,end=10,25\n",
        "def time_list(function,start=start,end=end):\n",
        "  time_taken=[]\n",
        "  for i in range(start,end):\n",
        "    start=time.time()\n",
        "    function(2**i)\n",
        "    time_taken.append(time.time()-start)\n",
        "  return np.asarray(time_taken)\n",
        "print(\"start : \",2**start)\n",
        "print(\"start : \",2**(end-1))"
      ],
      "execution_count": 0,
      "outputs": [
        {
          "output_type": "stream",
          "text": [
            "start :  1024\n",
            "start :  16777216\n"
          ],
          "name": "stdout"
        }
      ]
    },
    {
      "cell_type": "code",
      "metadata": {
        "id": "HqQY9kyEkeT_",
        "colab_type": "code",
        "colab": {}
      },
      "source": [
        "list_time=time_list(list_add)*1000\n",
        "np_time=time_list(np_add)*1000"
      ],
      "execution_count": 0,
      "outputs": []
    },
    {
      "cell_type": "markdown",
      "metadata": {
        "id": "zKSUVsgFZ4Zh",
        "colab_type": "text"
      },
      "source": [
        "### Notice the difference in time intervals for a range of ~10^8 elements"
      ]
    },
    {
      "cell_type": "code",
      "metadata": {
        "id": "JMe4iWLN8_NV",
        "colab_type": "code",
        "outputId": "6c6a1aab-19eb-429c-fe4e-93c0ab846945",
        "colab": {
          "base_uri": "https://localhost:8080/",
          "height": 69
        }
      },
      "source": [
        "print(\"time for size of {}=\\n\\t\\t List : {} ms\\n\\t\\t Numpy: {} ms\".format(2**(end-1),int(list_time[-1]),int(np_time[-1])))"
      ],
      "execution_count": 0,
      "outputs": [
        {
          "output_type": "stream",
          "text": [
            "time for size of 16777216=\n",
            "\t\t List : 7214 ms\n",
            "\t\t Numpy: 133 ms\n"
          ],
          "name": "stdout"
        }
      ]
    },
    {
      "cell_type": "markdown",
      "metadata": {
        "id": "eoAhfWEEZ3bK",
        "colab_type": "text"
      },
      "source": [
        "### Plot of time intervals Numpy vs Python List"
      ]
    },
    {
      "cell_type": "markdown",
      "metadata": {
        "id": "0UzvQLyhaY3H",
        "colab_type": "text"
      },
      "source": [
        "Plotting techniques using matplotlib and seaborn will be explained in the next tutorial"
      ]
    },
    {
      "cell_type": "code",
      "metadata": {
        "id": "vxf1xMcZ3cKt",
        "colab_type": "code",
        "outputId": "a6245257-f429-4043-8480-fb3b0b77467d",
        "colab": {
          "base_uri": "https://localhost:8080/",
          "height": 287
        }
      },
      "source": [
        "sns.lineplot(np.arange(start,end),list_time,label=\"list_time\")\n",
        "sns.lineplot(np.arange(start,end),np_time,label=\"numpy_time\")"
      ],
      "execution_count": 0,
      "outputs": [
        {
          "output_type": "execute_result",
          "data": {
            "text/plain": [
              "<matplotlib.axes._subplots.AxesSubplot at 0x7f75a6f91a58>"
            ]
          },
          "metadata": {
            "tags": []
          },
          "execution_count": 28
        },
        {
          "output_type": "display_data",
          "data": {
            "image/png": "[encoded data removed]",
            "text/plain": [
              "<Figure size 432x288 with 1 Axes>"
            ]
          },
          "metadata": {
            "tags": []
          }
        }
      ]
    },
    {
      "cell_type": "code",
      "metadata": {
        "id": "pihvLn_j5h9c",
        "colab_type": "code",
        "colab": {}
      },
      "source": [
        ""
      ],
      "execution_count": 0,
      "outputs": []
    }
  ]
}
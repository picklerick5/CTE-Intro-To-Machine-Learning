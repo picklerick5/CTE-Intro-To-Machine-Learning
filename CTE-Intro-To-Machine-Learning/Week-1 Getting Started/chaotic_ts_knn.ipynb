{
  "nbformat": 4,
  "nbformat_minor": 0,
  "metadata": {
    "colab": {
      "name": "chaotic_ts_knn.ipynb",
      "version": "0.3.2",
      "provenance": [],
      "collapsed_sections": [],
      "include_colab_link": true
    },
    "kernelspec": {
      "name": "python3",
      "display_name": "Python 3"
    }
  },
  "cells": [
    {
      "cell_type": "markdown",
      "metadata": {
        "id": "view-in-github",
        "colab_type": "text"
      },
      "source": [
        "<a href=\"https://colab.research.google.com/github/someshsingh22/CTE-Intro-To-Machine-Learning/blob/master/CTE-Intro-To-Machine-Learning/Week-1%20Getting%20Started/chaotic_ts_knn.ipynb\" target=\"_parent\"><img src=\"https://colab.research.google.com/assets/colab-badge.svg\" alt=\"Open In Colab\"/></a>"
      ]
    },
    {
      "cell_type": "code",
      "metadata": {
        "id": "zvNelymzGDdV",
        "colab_type": "code",
        "colab": {}
      },
      "source": [
        "import os\n",
        "import time\n",
        "import numpy as np\n",
        "import matplotlib.pyplot as plt"
      ],
      "execution_count": 0,
      "outputs": []
    },
    {
      "cell_type": "code",
      "metadata": {
        "id": "_8QbaCOISJCz",
        "colab_type": "code",
        "colab": {}
      },
      "source": [
        "import collections\n",
        "import numpy as np\n",
        "\n",
        "\n",
        "def mackey_glass(sample_len=1000, tau=17, seed=None, n_samples = 1):\n",
        "    '''\n",
        "    mackey_glass(sample_len=1000, tau=17, seed = None, n_samples = 1) -> input\n",
        "    Generate the Mackey Glass time-series. Parameters are:\n",
        "        - sample_len: length of the time-series in timesteps. Default is 1000.\n",
        "        - tau: delay of the MG - system. Commonly used values are tau=17 (mild \n",
        "          chaos) and tau=30 (moderate chaos). Default is 17.\n",
        "        - seed: to seed the random generator, can be used to generate the same\n",
        "          timeseries at each invocation.\n",
        "        - n_samples : number of samples to generate\n",
        "    '''\n",
        "    delta_t = 6\n",
        "    history_len = tau * delta_t \n",
        "    # Initial conditions for the history of the system\n",
        "    timeseries = 1.2\n",
        "    \n",
        "    if seed is not None:\n",
        "        np.random.seed(seed)\n",
        "\n",
        "    samples = []\n",
        "\n",
        "    for _ in range(n_samples):\n",
        "        history = collections.deque(1.2 * np.ones(history_len) + 0.2 * \\\n",
        "                                    (np.random.rand(history_len) - 0.5))\n",
        "        # Preallocate the array for the time-series\n",
        "        inp = np.zeros((sample_len,1))\n",
        "        \n",
        "        for timestep in range(sample_len):\n",
        "            for _ in range(delta_t):\n",
        "                xtau = history.popleft()\n",
        "                history.append(timeseries)\n",
        "                timeseries = history[-1] + (0.2 * xtau / (1.0 + xtau ** 10) - \\\n",
        "                             0.1 * history[-1]) / delta_t\n",
        "            inp[timestep] = timeseries\n",
        "        \n",
        "        # Squash timeseries through tanh\n",
        "        inp = np.tanh(inp - 1)\n",
        "        samples.append(inp)\n",
        "    return samples\n"
      ],
      "execution_count": 0,
      "outputs": []
    },
    {
      "cell_type": "code",
      "metadata": {
        "id": "pCJGDJLSTkuB",
        "colab_type": "code",
        "colab": {}
      },
      "source": [
        "x1=mackey_glass(1000,17)\n",
        "x2=mackey_glass(1000,30)"
      ],
      "execution_count": 0,
      "outputs": []
    },
    {
      "cell_type": "code",
      "metadata": {
        "id": "eS4JR-woTq-I",
        "colab_type": "code",
        "outputId": "091c8a3f-87ab-4df5-9d94-5f0fbdac5a66",
        "colab": {
          "base_uri": "https://localhost:8080/",
          "height": 34
        }
      },
      "source": [
        "len(x1[0])"
      ],
      "execution_count": 0,
      "outputs": [
        {
          "output_type": "execute_result",
          "data": {
            "text/plain": [
              "1000"
            ]
          },
          "metadata": {
            "tags": []
          },
          "execution_count": 4
        }
      ]
    },
    {
      "cell_type": "code",
      "metadata": {
        "id": "1QnFuE09UREJ",
        "colab_type": "code",
        "outputId": "0dfd7c34-a2c5-45be-9002-2f1fecf82efd",
        "colab": {
          "base_uri": "https://localhost:8080/",
          "height": 311
        }
      },
      "source": [
        "t=np.linspace(0,999,1000)\n",
        "f, axarr = plt.subplots(2, sharex=True)\n",
        "f.suptitle('Mackey-Glass equations')\n",
        "axarr[0].plot(t, x1[0][:], label='tau = 17')\n",
        "axarr[1].plot(t, x2[0][:], label='tau = 30')"
      ],
      "execution_count": 0,
      "outputs": [
        {
          "output_type": "execute_result",
          "data": {
            "text/plain": [
              "[<matplotlib.lines.Line2D at 0x7f66008fb550>]"
            ]
          },
          "metadata": {
            "tags": []
          },
          "execution_count": 5
        },
        {
          "output_type": "display_data",
          "data": {
            "image/png": "[encoded data removed]",
            "text/plain": [
              "<Figure size 432x288 with 2 Axes>"
            ]
          },
          "metadata": {
            "tags": []
          }
        }
      ]
    },
    {
      "cell_type": "code",
      "metadata": {
        "id": "BQYBnfCKYnqy",
        "colab_type": "code",
        "colab": {}
      },
      "source": [
        "x1 = x1[0][:]\n",
        "x2 = x2[0][:]"
      ],
      "execution_count": 0,
      "outputs": []
    },
    {
      "cell_type": "code",
      "metadata": {
        "id": "_Aio1pqEPW70",
        "colab_type": "code",
        "colab": {}
      },
      "source": [
        "data_size =1000\n",
        "batch_time =4"
      ],
      "execution_count": 0,
      "outputs": []
    },
    {
      "cell_type": "code",
      "metadata": {
        "id": "9EMAeUKdPnds",
        "colab_type": "code",
        "colab": {}
      },
      "source": [
        "sample_x = np.zeros((997,4))\n",
        "sample_y = np.zeros((997))"
      ],
      "execution_count": 0,
      "outputs": []
    },
    {
      "cell_type": "code",
      "metadata": {
        "colab_type": "code",
        "id": "Q9pujEp6LPu0",
        "colab": {}
      },
      "source": [
        "for i in range(data_size-batch_time):\n",
        "  sample_x[i][0] = x1[i]\n",
        "  sample_x[i][1] = x1[i+1]\n",
        "  sample_x[i][2] = x1[i+2]\n",
        "  sample_x[i][3] = x1[i+3]\n",
        "  sample_y[i] = x1[i+4]"
      ],
      "execution_count": 0,
      "outputs": []
    },
    {
      "cell_type": "code",
      "metadata": {
        "id": "Y5KFt5u_PJdo",
        "colab_type": "code",
        "outputId": "732daf82-8fe6-4338-b7c8-560f297a1e35",
        "colab": {
          "base_uri": "https://localhost:8080/",
          "height": 141
        }
      },
      "source": [
        "sample_x"
      ],
      "execution_count": 0,
      "outputs": [
        {
          "output_type": "execute_result",
          "data": {
            "text/plain": [
              "array([[ 0.1157483 ,  0.0471653 , -0.02231617, -0.07609758],\n",
              "       [ 0.0471653 , -0.02231617, -0.07609758, -0.1365657 ],\n",
              "       [-0.02231617, -0.07609758, -0.1365657 , -0.18354483],\n",
              "       ...,\n",
              "       [ 0.28040177,  0.26296367,  0.23146848,  0.18770657],\n",
              "       [ 0.26296367,  0.23146848,  0.18770657,  0.13536132],\n",
              "       [ 0.        ,  0.        ,  0.        ,  0.        ]])"
            ]
          },
          "metadata": {
            "tags": []
          },
          "execution_count": 10
        }
      ]
    },
    {
      "cell_type": "code",
      "metadata": {
        "id": "nCPjCMoXSRX4",
        "colab_type": "code",
        "colab": {}
      },
      "source": [
        "train_x = sample_x[:800]\n",
        "train_y = sample_y[:800]\n",
        "test_x = sample_x[800:]\n",
        "test_y = sample_y[800:]"
      ],
      "execution_count": 0,
      "outputs": []
    },
    {
      "cell_type": "code",
      "metadata": {
        "id": "9kDZDAcoSmob",
        "colab_type": "code",
        "outputId": "d3f67b34-b664-4507-a8c3-60dee3a3b98d",
        "colab": {
          "base_uri": "https://localhost:8080/",
          "height": 34
        }
      },
      "source": [
        "len(test_x)"
      ],
      "execution_count": 0,
      "outputs": [
        {
          "output_type": "execute_result",
          "data": {
            "text/plain": [
              "197"
            ]
          },
          "metadata": {
            "tags": []
          },
          "execution_count": 12
        }
      ]
    },
    {
      "cell_type": "code",
      "metadata": {
        "id": "fvywGOjhXsBI",
        "colab_type": "code",
        "outputId": "641c3e2f-6cd8-44d0-b1bc-4adac82f1b75",
        "colab": {
          "base_uri": "https://localhost:8080/",
          "height": 34
        }
      },
      "source": [
        "x1_mean = np.sum(x1)/len(x1)\n",
        "x1_mean"
      ],
      "execution_count": 0,
      "outputs": [
        {
          "output_type": "execute_result",
          "data": {
            "text/plain": [
              "-0.06463693915560656"
            ]
          },
          "metadata": {
            "tags": []
          },
          "execution_count": 13
        }
      ]
    },
    {
      "cell_type": "code",
      "metadata": {
        "id": "dPqnX-00Wfqz",
        "colab_type": "code",
        "colab": {}
      },
      "source": [
        "k=5"
      ],
      "execution_count": 0,
      "outputs": []
    },
    {
      "cell_type": "code",
      "metadata": {
        "id": "3o-Gi87pXdv8",
        "colab_type": "code",
        "colab": {}
      },
      "source": [
        "pred_y = np.zeros_like(test_y)\n",
        "mse_y = np.zeros_like(test_y)\n",
        "den = np.zeros_like(mse_y)"
      ],
      "execution_count": 0,
      "outputs": []
    },
    {
      "cell_type": "code",
      "metadata": {
        "id": "iJABzobpS6TM",
        "colab_type": "code",
        "colab": {}
      },
      "source": [
        "for i in range(len(test_x)):\n",
        "  t_x = test_x[i]\n",
        "  t_y = test_y[i]\n",
        "  j=0\n",
        "  diff_arr = np.zeros(len(train_x))\n",
        "  for tr_x in train_x:\n",
        "    diff = np.sum((tr_x - t_x)**2)\n",
        "    diff_arr[j] = diff\n",
        "    j+=1\n",
        "  idx = np.argpartition(diff_arr, k)\n",
        "  idx = idx[:k]\n",
        "  sum_y = 0\n",
        "  for j in idx:\n",
        "    sum_y += train_y[j]\n",
        "  mean_y = sum_y/k\n",
        "  pred_y[i] = mean_y\n",
        "  mse_y[i] = (t_y - mean_y)**2\n",
        "  den[i] = (x1_mean- mean_y)**2"
      ],
      "execution_count": 0,
      "outputs": []
    },
    {
      "cell_type": "code",
      "metadata": {
        "id": "oE0AogpATmI9",
        "colab_type": "code",
        "outputId": "baa88aa8-7412-49cd-c5ad-a6a25c93a719",
        "colab": {
          "base_uri": "https://localhost:8080/",
          "height": 52
        }
      },
      "source": [
        "test_y[:5],pred_y[:5]"
      ],
      "execution_count": 0,
      "outputs": [
        {
          "output_type": "execute_result",
          "data": {
            "text/plain": [
              "(array([0.22323165, 0.23046781, 0.22266913, 0.20016483, 0.16584508]),\n",
              " array([0.21091508, 0.23092076, 0.24866464, 0.2538528 , 0.190654  ]))"
            ]
          },
          "metadata": {
            "tags": []
          },
          "execution_count": 17
        }
      ]
    },
    {
      "cell_type": "code",
      "metadata": {
        "id": "3yE3pIaGY3Ur",
        "colab_type": "code",
        "outputId": "33f5859f-ef0e-460c-c234-3a327c2aa7d9",
        "colab": {
          "base_uri": "https://localhost:8080/",
          "height": 34
        }
      },
      "source": [
        "rmse = np.sum(np.sqrt(mse_y))/len(mse_y)\n",
        "rmse # best score for 5 amongst k=3,5,10"
      ],
      "execution_count": 0,
      "outputs": [
        {
          "output_type": "execute_result",
          "data": {
            "text/plain": [
              "0.011654774955183123"
            ]
          },
          "metadata": {
            "tags": []
          },
          "execution_count": 18
        }
      ]
    },
    {
      "cell_type": "code",
      "metadata": {
        "id": "2vALODS3Yjp1",
        "colab_type": "code",
        "outputId": "561dc126-c53d-4f52-b7f2-dd14674a5cd4",
        "colab": {
          "base_uri": "https://localhost:8080/",
          "height": 34
        }
      },
      "source": [
        "nrmse = np.sum(np.sqrt(mse_y))/np.sum(np.sqrt(den))\n",
        "nrmse"
      ],
      "execution_count": 0,
      "outputs": [
        {
          "output_type": "execute_result",
          "data": {
            "text/plain": [
              "0.06239381475121648"
            ]
          },
          "metadata": {
            "tags": []
          },
          "execution_count": 19
        }
      ]
    },
    {
      "cell_type": "code",
      "metadata": {
        "id": "LlGmxmh3aS18",
        "colab_type": "code",
        "colab": {}
      },
      "source": [
        ""
      ],
      "execution_count": 0,
      "outputs": []
    }
  ]
}
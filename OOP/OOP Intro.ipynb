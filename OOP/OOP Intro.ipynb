{
 "cells": [
  {
   "cell_type": "markdown",
   "metadata": {},
   "source": [
    "# OOP in Python, ML and DL"
   ]
  },
  {
   "cell_type": "markdown",
   "metadata": {},
   "source": [
    "### Why OOP ? What Happens when you dont use OOP :\n",
    "### Le Me Looking at my 4 months old code   :    o.0"
   ]
  },
  {
   "cell_type": "markdown",
   "metadata": {},
   "source": [
    "<img src=\"files/confuse.gif\">"
   ]
  },
  {
   "cell_type": "code",
   "execution_count": 38,
   "metadata": {},
   "outputs": [],
   "source": [
    "class Cat :\n",
    "    \n",
    "    def __init__(self,legs=4,OOP=False):\n",
    "        self.legs = legs\n",
    "        self.OOP = OOP\n",
    "    \n",
    "    def is_bamboozled(self):\n",
    "        if self.OOP:\n",
    "            return False\n",
    "        else:\n",
    "            return True\n",
    "    \n",
    "    def react(self,meow_count=5):\n",
    "        if self.is_bamboozled():\n",
    "            print(\"Hecking Bamboozled just use OOP!\")\n",
    "        else:\n",
    "            print(\"The code is alright Hooman,phew!, play some mewsic\")\n",
    "            play_meow(meow_count)\n",
    "    \n",
    "def play_meow(count):\n",
    "    for i in range(count):\n",
    "        print(\"meow\",end='\\t')"
   ]
  },
  {
   "cell_type": "code",
   "execution_count": 39,
   "metadata": {},
   "outputs": [
    {
     "name": "stdout",
     "output_type": "stream",
     "text": [
      "True\n",
      "Hecking Bamboozled just use OOP!\n"
     ]
    }
   ],
   "source": [
    "Neko = Cat()\n",
    "print(Neko.is_bamboozled())\n",
    "Neko.react()"
   ]
  },
  {
   "cell_type": "code",
   "execution_count": 40,
   "metadata": {},
   "outputs": [],
   "source": [
    "Neko.OOP=True"
   ]
  },
  {
   "cell_type": "code",
   "execution_count": 41,
   "metadata": {},
   "outputs": [
    {
     "name": "stdout",
     "output_type": "stream",
     "text": [
      "False\n",
      "The code is alright Hooman,phew!, play some mewsic\n",
      "meow\tmeow\tmeow\tmeow\tmeow\t"
     ]
    }
   ],
   "source": [
    "print(Neko.is_bamboozled())\n",
    "Neko.react()"
   ]
  },
  {
   "cell_type": "markdown",
   "metadata": {},
   "source": [
    "## How would the code be without OOP ?"
   ]
  },
  {
   "cell_type": "code",
   "execution_count": 42,
   "metadata": {},
   "outputs": [],
   "source": [
    "legs=4\n",
    "OOP=False\n",
    "\n",
    "def is_bamboozled():\n",
    "    if OOP:\n",
    "        return False\n",
    "    else:\n",
    "        return True\n",
    "\n",
    "def react(meow_count=5):\n",
    "    if is_bamboozled():\n",
    "        print(\"Hecking Bamboozled just use OOP!\")\n",
    "    else:\n",
    "        print(\"The code is alright Hooman,phew!, play some mewsic\")\n",
    "        play_meow(meow_count)\n",
    "    \n",
    "def play_meow(count):\n",
    "    for i in range(count):\n",
    "        print(\"meow\",end='\\t')"
   ]
  },
  {
   "cell_type": "code",
   "execution_count": 45,
   "metadata": {},
   "outputs": [
    {
     "name": "stdout",
     "output_type": "stream",
     "text": [
      "True\n",
      "Hecking Bamboozled just use OOP!\n",
      "False\n",
      "The code is alright Hooman,phew!, play some mewsic\n",
      "meow\tmeow\tmeow\tmeow\tmeow\t"
     ]
    }
   ],
   "source": [
    "print(is_bamboozled())\n",
    "react(5)\n",
    "OOP=True\n",
    "print(is_bamboozled())\n",
    "react(5)"
   ]
  },
  {
   "cell_type": "markdown",
   "metadata": {},
   "source": [
    "# Yeah so whats the problem huh ?\n",
    "1. **What if I have many cats and have names for them ? - Different variable names and N x Code**\n",
    "2. **What if the cat's breed matters and has different functionality ? - Different Methods and N x Codes**\n",
    "3. **What if cat shares some values and possessions with a different *class* of entities - Same ?**\n",
    "4. **What if I want to restrict access to some possessions, why would my cat have three legs ? - Well uhm demise ?**"
   ]
  },
  {
   "cell_type": "code",
   "execution_count": 96,
   "metadata": {},
   "outputs": [],
   "source": [
    "class Animal :\n",
    "    \n",
    "    def __init__(self,name=\"Unknown\",legs=4,color=\"black\",specie=\"unknown\",age=1):\n",
    "        self.name = name\n",
    "        self.legs = legs\n",
    "        self.age = age\n",
    "        self.specie=specie\n",
    "        \n",
    "    def move(self,distance=1):\n",
    "        print(\"{} moved by {} units !\".format(self.name,distance))\n",
    "    \n",
    "    def introduce(self):\n",
    "        attr=vars(self)\n",
    "        for var in attr:\n",
    "            print(\"{} : {}\".format(var,attr[var]))"
   ]
  },
  {
   "cell_type": "code",
   "execution_count": 97,
   "metadata": {},
   "outputs": [],
   "source": [
    "pet1=Animal()\n",
    "pet2=Animal(name=\"Thomas\", specie=\"Cat\", color=\"Grey\")\n",
    "pet3=Animal(name=\"Jerry\", specie=\"Mouse\", color=\"Brown\")"
   ]
  },
  {
   "cell_type": "code",
   "execution_count": 98,
   "metadata": {},
   "outputs": [
    {
     "name": "stdout",
     "output_type": "stream",
     "text": [
      "name : Unknown\n",
      "legs : 4\n",
      "age : 1\n",
      "specie : unknown\n"
     ]
    }
   ],
   "source": [
    "pet1.introduce()"
   ]
  },
  {
   "cell_type": "code",
   "execution_count": 99,
   "metadata": {},
   "outputs": [
    {
     "name": "stdout",
     "output_type": "stream",
     "text": [
      "name : Thomas\n",
      "legs : 4\n",
      "age : 1\n",
      "specie : Cat\n"
     ]
    }
   ],
   "source": [
    "pet2.introduce()"
   ]
  },
  {
   "cell_type": "code",
   "execution_count": 100,
   "metadata": {},
   "outputs": [
    {
     "name": "stdout",
     "output_type": "stream",
     "text": [
      "name : Jerry\n",
      "legs : 4\n",
      "age : 1\n",
      "specie : Mouse\n"
     ]
    }
   ],
   "source": [
    "pet3.introduce()"
   ]
  },
  {
   "cell_type": "code",
   "execution_count": 101,
   "metadata": {},
   "outputs": [
    {
     "name": "stdout",
     "output_type": "stream",
     "text": [
      "Thomas moved by 9 units !\n",
      "Jerry moved by 10 units !\n"
     ]
    }
   ],
   "source": [
    "pet2.move(9)\n",
    "pet3.move(10)"
   ]
  },
  {
   "cell_type": "code",
   "execution_count": 134,
   "metadata": {},
   "outputs": [],
   "source": [
    "class Cat(Animal) :\n",
    "    \n",
    "    def __init__(self,OOP=False,**kwargs):\n",
    "        Animal.__init__(self)\n",
    "        self.OOP = OOP\n",
    "        self.specie=\"Cat\"\n",
    "        self.legs=4\n",
    "        if 'name' in kwargs:\n",
    "            self.name=kwargs['name']\n",
    "        if 'color' in kwargs:\n",
    "            self.color=kwargs['color']\n",
    "        if 'age' in kwargs:\n",
    "            self.age=kwargs['age']\n",
    "    \n",
    "    def is_bamboozled(self):\n",
    "        if self.OOP:\n",
    "            return False\n",
    "        else:\n",
    "            return True\n",
    "    \n",
    "    def react(self,meow_count=5):\n",
    "        if self.is_bamboozled():\n",
    "            print(\"Hecking Bamboozled just use OOP!\")\n",
    "        else:\n",
    "            print(\"The code is alright Hooman,phew!, play some mewsic\")\n",
    "            play_meow(meow_count)\n",
    "    \n",
    "    def introduce(self):\n",
    "        for var,val in vars(self).items():\n",
    "            print(\"{} : {}\".format(var,val))\n",
    "    \n",
    "    def move(self,distance=1):\n",
    "        print(\"Cat\",end=' ')\n",
    "        super().move(distance)\n",
    "    \n",
    "def play_meow(count):\n",
    "    for i in range(count):\n",
    "        print(\"meow\",end='\\t')"
   ]
  },
  {
   "cell_type": "code",
   "execution_count": 135,
   "metadata": {},
   "outputs": [],
   "source": [
    "Stella = Cat(name=\"Stella\",color=\"Snow White\",age=4)"
   ]
  },
  {
   "cell_type": "code",
   "execution_count": 136,
   "metadata": {},
   "outputs": [
    {
     "name": "stdout",
     "output_type": "stream",
     "text": [
      "name : Stella\n",
      "legs : 4\n",
      "age : 4\n",
      "specie : Cat\n",
      "OOP : False\n",
      "color : Snow White\n",
      "Hecking Bamboozled just use OOP!\n",
      "Cat Stella moved by 1 units !\n"
     ]
    }
   ],
   "source": [
    "Stella.introduce()\n",
    "Stella.react()\n",
    "Stella.move()"
   ]
  },
  {
   "cell_type": "code",
   "execution_count": 141,
   "metadata": {},
   "outputs": [
    {
     "name": "stdout",
     "output_type": "stream",
     "text": [
      "name : Stella\n",
      "legs : 4\n",
      "age : 4\n",
      "specie : Cat\n",
      "OOP : False\n",
      "color : Snow White\n",
      "message : Cats will Rule this world sooner or later\n"
     ]
    }
   ],
   "source": [
    "Stella.message=\"Cats will Rule this world sooner or later\"\n",
    "Stella.introduce()"
   ]
  },
  {
   "cell_type": "code",
   "execution_count": 142,
   "metadata": {},
   "outputs": [
    {
     "name": "stdout",
     "output_type": "stream",
     "text": [
      "Hecking Bamboozled just use OOP!\n",
      "The code is alright Hooman,phew!, play some mewsic\n",
      "meow\tmeow\tmeow\t"
     ]
    }
   ],
   "source": [
    "Stella.react(meow_count = 3)\n",
    "Stella.OOP=True\n",
    "Stella.react(meow_count = 3)"
   ]
  },
  {
   "cell_type": "markdown",
   "metadata": {},
   "source": [
    "## Now That you know how to use classes and objects, you can understand how it is used in ML/DL"
   ]
  },
  {
   "cell_type": "markdown",
   "metadata": {},
   "source": [
    "<img src=\"files/subarashi.jpg\" style=\"width:60%;height:60%;\">"
   ]
  }
 ],
 "metadata": {
  "kernelspec": {
   "display_name": "Python 3",
   "language": "python",
   "name": "python3"
  },
  "language_info": {
   "codemirror_mode": {
    "name": "ipython",
    "version": 3
   },
   "file_extension": ".py",
   "mimetype": "text/x-python",
   "name": "python",
   "nbconvert_exporter": "python",
   "pygments_lexer": "ipython3",
   "version": "3.6.8"
  }
 },
 "nbformat": 4,
 "nbformat_minor": 2
}

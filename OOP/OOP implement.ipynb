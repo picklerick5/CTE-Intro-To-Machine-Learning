{
 "cells": [
  {
   "cell_type": "markdown",
   "metadata": {},
   "source": [
    "## A common example of large scale OOP usage"
   ]
  },
  {
   "cell_type": "code",
   "execution_count": 12,
   "metadata": {},
   "outputs": [],
   "source": [
    "from sklearn.linear_model import LinearRegression as LR\n",
    "model=LR(normalize=False)"
   ]
  },
  {
   "cell_type": "markdown",
   "metadata": {},
   "source": [
    "## How to use this behaviour ?\n",
    "Create a '.py' file which will be your library and import your classes\n",
    "In this Linear Regression by Scikit your importing a class Linear Regression as LR from linear_model.py in a folder sklearn\n",
    "\n",
    "Dont believe me ? visit\n",
    "https://github.com/scikit-learn/scikit-learn/blob/master/sklearn/linear_model/base.py\n",
    "\n",
    "The actual source code"
   ]
  },
  {
   "cell_type": "code",
   "execution_count": 6,
   "metadata": {},
   "outputs": [],
   "source": [
    "from Animals import Cat as C"
   ]
  },
  {
   "cell_type": "code",
   "execution_count": 7,
   "metadata": {},
   "outputs": [
    {
     "name": "stdout",
     "output_type": "stream",
     "text": [
      "name : Neko\n",
      "legs : 4\n",
      "age : 1\n",
      "specie : Cat\n",
      "OOP : False\n"
     ]
    }
   ],
   "source": [
    "neko = C(name=\"Neko\")\n",
    "neko.introduce()"
   ]
  },
  {
   "cell_type": "markdown",
   "metadata": {},
   "source": [
    "### What If I say you could make your own libraries and utility functions ?"
   ]
  },
  {
   "cell_type": "markdown",
   "metadata": {},
   "source": [
    "<img src=\"files/Elmo.jpg\">"
   ]
  },
  {
   "cell_type": "markdown",
   "metadata": {},
   "source": [
    "## Well, you actually can here is an example where I was experimenting with OOP and NLP for the first time !\n",
    "\n",
    "https://github.com/someshsingh22/Sherlocked"
   ]
  },
  {
   "cell_type": "markdown",
   "metadata": {},
   "source": [
    "### Additional : Nested Classes ETC"
   ]
  },
  {
   "cell_type": "code",
   "execution_count": 28,
   "metadata": {},
   "outputs": [],
   "source": [
    "class Animal :\n",
    "    \n",
    "    def __init__(self,name=\"Unknown\",legs=4,color=\"black\",age=1,species_name=\"unk\"):\n",
    "        self.name = name\n",
    "        self.legs = legs\n",
    "        self.age = age\n",
    "        self.species=self.Init_Species(name=species_name,population=1e6)\n",
    "        \n",
    "    def move(self,distance=1):\n",
    "        print(\"{} moved by {} units !\".format(self.name,distance))\n",
    "    \n",
    "    def introduce(self):\n",
    "        attr=vars(self)\n",
    "        for var in attr:\n",
    "            print(\"{} : {}\".format(var,attr[var]))\n",
    "            \n",
    "    def Init_Species(self,name,population):\n",
    "        return Animal.Species(name=name,population=population)\n",
    "            \n",
    "    class Species :\n",
    "        \n",
    "        def __init__(self,name=\"unk\",population=1e6):\n",
    "            self.population = population\n",
    "            self.name = name\n",
    "        \n",
    "        def is_endangered(self, cutoff=1e5):\n",
    "            if self.population < cutoff :\n",
    "                print(\"Endangered\")\n",
    "            else :\n",
    "                print(\"Safe\")"
   ]
  },
  {
   "cell_type": "code",
   "execution_count": 29,
   "metadata": {},
   "outputs": [],
   "source": [
    "Pig = Animal(name=\"Snoot\",color=\"pink\",age=5,species_name=\"Cavia porcellus\")"
   ]
  },
  {
   "cell_type": "code",
   "execution_count": 32,
   "metadata": {},
   "outputs": [
    {
     "name": "stdout",
     "output_type": "stream",
     "text": [
      "Safe\n",
      "Endangered\n"
     ]
    }
   ],
   "source": [
    "Pig.species.population=1e7\n",
    "Pig.species.is_endangered(cutoff=1e6)\n",
    "Pig.species.is_endangered(cutoff=1e8)"
   ]
  }
 ],
 "metadata": {
  "kernelspec": {
   "display_name": "Python 3",
   "language": "python",
   "name": "python3"
  },
  "language_info": {
   "codemirror_mode": {
    "name": "ipython",
    "version": 3
   },
   "file_extension": ".py",
   "mimetype": "text/x-python",
   "name": "python",
   "nbconvert_exporter": "python",
   "pygments_lexer": "ipython3",
   "version": "3.6.8"
  }
 },
 "nbformat": 4,
 "nbformat_minor": 2
}
